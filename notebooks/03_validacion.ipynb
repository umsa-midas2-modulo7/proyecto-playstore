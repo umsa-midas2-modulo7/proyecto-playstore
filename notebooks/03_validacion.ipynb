{
 "cells": [
  {
   "cell_type": "markdown",
   "id": "a9161ddb",
   "metadata": {},
   "source": [
    "# Great Expectations\n",
    "- Herramienta de código abierto diseñada para asegurar la calidad de los datos en proyectos de análisis y ciencia de datos. \n",
    "- Permite definir “expectativas” o reglas sobre el dataset y luego verificar automáticamente si los datos cumplen con esas condiciones.\n",
    "- Validara si es que los datos estan limpios, completos, consistentes y seguros."
   ]
  },
  {
   "cell_type": "code",
   "execution_count": null,
   "id": "e2bcc636",
   "metadata": {
    "vscode": {
     "languageId": "plaintext"
    }
   },
   "outputs": [],
   "source": []
  }
 ],
 "metadata": {
  "language_info": {
   "name": "python"
  }
 },
 "nbformat": 4,
 "nbformat_minor": 5
}
