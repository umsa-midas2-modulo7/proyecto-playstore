{
 "cells": [
  {
   "cell_type": "markdown",
   "id": "a02d7244",
   "metadata": {},
   "source": [
    "# GREAT EXPECTATIONS FOR MOVIL BILLETERS"
   ]
  },
  {
   "cell_type": "code",
   "execution_count": 2,
   "id": "8df0f582",
   "metadata": {},
   "outputs": [
    {
     "name": "stdout",
     "output_type": "stream",
     "text": [
      "NumPy: 1.26.4\n",
      "SciPy: 1.10.1\n",
      "Pandas: 2.2.2\n",
      "Sklearn: 1.5.1\n",
      "GE: 0.18.13\n"
     ]
    }
   ],
   "source": [
    " # IMPORTACIONES\n",
    "import numpy, scipy, pandas, sklearn, great_expectations as ge\n",
    "print(\"NumPy:\", numpy.__version__)\n",
    "print(\"SciPy:\", scipy.__version__)\n",
    "print(\"Pandas:\", pandas.__version__)\n",
    "print(\"Sklearn:\", sklearn.__version__)\n",
    "print(\"GE:\", ge.__version__)\n"
   ]
  },
  {
   "cell_type": "code",
   "execution_count": 5,
   "id": "c2c72494",
   "metadata": {},
   "outputs": [
    {
     "name": "stdout",
     "output_type": "stream",
     "text": [
      "Usando: C:\\Users\\-zv\\Documents\\TRABAJO_MIADAS_MODULO7\\proyecto-playstore\\data\\processed\\comentarios_limpios_tokens.csv\n",
      "RAW shape: (3000, 7)\n"
     ]
    },
    {
     "data": {
      "text/html": [
       "<div>\n",
       "<style scoped>\n",
       "    .dataframe tbody tr th:only-of-type {\n",
       "        vertical-align: middle;\n",
       "    }\n",
       "\n",
       "    .dataframe tbody tr th {\n",
       "        vertical-align: top;\n",
       "    }\n",
       "\n",
       "    .dataframe thead th {\n",
       "        text-align: right;\n",
       "    }\n",
       "</style>\n",
       "<table border=\"1\" class=\"dataframe\">\n",
       "  <thead>\n",
       "    <tr style=\"text-align: right;\">\n",
       "      <th></th>\n",
       "      <th>content</th>\n",
       "      <th>score</th>\n",
       "      <th>thumbsUpCount</th>\n",
       "      <th>comentario_limpio</th>\n",
       "      <th>comentario_limpio_corregido</th>\n",
       "      <th>comentario_lemmatizado</th>\n",
       "      <th>tokens</th>\n",
       "    </tr>\n",
       "  </thead>\n",
       "  <tbody>\n",
       "    <tr>\n",
       "      <th>0</th>\n",
       "      <td>muy lenta</td>\n",
       "      <td>3</td>\n",
       "      <td>0</td>\n",
       "      <td>lenta</td>\n",
       "      <td>lenta</td>\n",
       "      <td>lento</td>\n",
       "      <td>['lento']</td>\n",
       "    </tr>\n",
       "    <tr>\n",
       "      <th>1</th>\n",
       "      <td>es muy buena</td>\n",
       "      <td>5</td>\n",
       "      <td>0</td>\n",
       "      <td>buena</td>\n",
       "      <td>buena</td>\n",
       "      <td>buen</td>\n",
       "      <td>['buen']</td>\n",
       "    </tr>\n",
       "    <tr>\n",
       "      <th>2</th>\n",
       "      <td>Buena aplicación me gusta</td>\n",
       "      <td>5</td>\n",
       "      <td>0</td>\n",
       "      <td>buena aplicación gusta</td>\n",
       "      <td>buena aplicacion gusta</td>\n",
       "      <td>buen aplicacion gusta</td>\n",
       "      <td>['buen', 'aplicacion', 'gusta']</td>\n",
       "    </tr>\n",
       "  </tbody>\n",
       "</table>\n",
       "</div>"
      ],
      "text/plain": [
       "                     content  score  thumbsUpCount       comentario_limpio  \\\n",
       "0                  muy lenta      3              0                   lenta   \n",
       "1               es muy buena      5              0                   buena   \n",
       "2  Buena aplicación me gusta      5              0  buena aplicación gusta   \n",
       "\n",
       "  comentario_limpio_corregido comentario_lemmatizado  \\\n",
       "0                       lenta                  lento   \n",
       "1                       buena                   buen   \n",
       "2      buena aplicacion gusta  buen aplicacion gusta   \n",
       "\n",
       "                            tokens  \n",
       "0                        ['lento']  \n",
       "1                         ['buen']  \n",
       "2  ['buen', 'aplicacion', 'gusta']  "
      ]
     },
     "execution_count": 5,
     "metadata": {},
     "output_type": "execute_result"
    }
   ],
   "source": [
    "from pathlib import Path\n",
    "import pandas as pd\n",
    "import numpy as np\n",
    "\n",
    "DATA_PATH = Path(\"C:/Users/-zv/Documents/TRABAJO_MIADAS_MODULO7/proyecto-playstore/data/processed/comentarios_limpios_tokens.csv\")\n",
    "\n",
    "print(\"Usando:\", DATA_PATH.resolve())\n",
    "\n",
    "df_raw = pd.read_csv(DATA_PATH, encoding_errors=\"ignore\")\n",
    "print(\"RAW shape:\", df_raw.shape)\n",
    "df_raw.head(3)"
   ]
  },
  {
   "cell_type": "markdown",
   "id": "9a9a41bb",
   "metadata": {},
   "source": [
    "#####  Descripción de las columnas\n",
    "\n",
    "Content:  Es un identificador único para cada transacción.StockCode Código único asignado a cada producto. Sirve para identificar el artículo en inventario.Description\n",
    "Nombre o descripción textual del producto.Quantity\n",
    "Número de unidades vendidas en cada transacción.InvoiceDate\n",
    "Fecha y hora exacta en que se generó la factura.UnitPrice\n",
    "Precio unitario del producto, expresado en libras esterlinas (£).CustomerID\n",
    "Identificador numérico único de cada cliente.Country\n",
    "País del cliente. Indica desde dónde se realizó la compra."
   ]
  },
  {
   "cell_type": "markdown",
   "id": "01e526e6",
   "metadata": {},
   "source": [
    "# 1. Preprocesamiento minimos tipos"
   ]
  },
  {
   "cell_type": "code",
   "execution_count": null,
   "id": "017ca5a9",
   "metadata": {},
   "outputs": [],
   "source": [
    "df_raw = df_raw.copy()\n",
    "\n",
    "# Fecha → datetime\n",
    "if \"InvoiceDate\" in df_raw.columns:\n",
    "    df_raw[\"InvoiceDate\"] = pd.to_datetime(df_raw[\"InvoiceDate\"], errors=\"coerce\")\n",
    "\n",
    "# Números → asegurar tipo\n",
    "for col in [\"Quantity\", \"UnitPrice\", \"CustomerID\"]:\n",
    "    if col in df_raw.columns:\n",
    "        df_raw[col] = pd.to_numeric(df_raw[col], errors=\"coerce\")\n",
    "\n",
    "print(df_raw.dtypes)\n",
    "df_raw.isna().sum().sort_values(ascending=False).head(10)"
   ]
  }
 ],
 "metadata": {
  "kernelspec": {
   "display_name": ".venv",
   "language": "python",
   "name": "python3"
  },
  "language_info": {
   "codemirror_mode": {
    "name": "ipython",
    "version": 3
   },
   "file_extension": ".py",
   "mimetype": "text/x-python",
   "name": "python",
   "nbconvert_exporter": "python",
   "pygments_lexer": "ipython3",
   "version": "3.11.9"
  }
 },
 "nbformat": 4,
 "nbformat_minor": 5
}
