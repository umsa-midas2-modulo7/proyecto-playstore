{
 "cells": [
  {
   "cell_type": "code",
   "execution_count": 1,
   "id": "55ab06d6",
   "metadata": {},
   "outputs": [
    {
     "name": "stdout",
     "output_type": "stream",
     "text": [
      "NumPy: 1.26.4\n",
      "SciPy: 1.10.1\n",
      "Pandas: 2.2.2\n",
      "Sklearn: 1.5.1\n",
      "GE: 0.18.13\n"
     ]
    }
   ],
   "source": [
    "# IMPORTACIONES\n",
    "import numpy, scipy, pandas, sklearn, great_expectations as ge\n",
    "print(\"NumPy:\", numpy.__version__)\n",
    "print(\"SciPy:\", scipy.__version__)\n",
    "print(\"Pandas:\", pandas.__version__)\n",
    "print(\"Sklearn:\", sklearn.__version__)\n",
    "print(\"GE:\", ge.__version__)"
   ]
  }
 ],
 "metadata": {
  "kernelspec": {
   "display_name": ".venv",
   "language": "python",
   "name": "python3"
  },
  "language_info": {
   "codemirror_mode": {
    "name": "ipython",
    "version": 3
   },
   "file_extension": ".py",
   "mimetype": "text/x-python",
   "name": "python",
   "nbconvert_exporter": "python",
   "pygments_lexer": "ipython3",
   "version": "3.11.9"
  }
 },
 "nbformat": 4,
 "nbformat_minor": 5
}
