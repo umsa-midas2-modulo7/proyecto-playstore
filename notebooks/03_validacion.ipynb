{
 "cells": [
  {
   "cell_type": "markdown",
   "id": "a02d7244",
   "metadata": {},
   "source": [
    "# GREAT EXPECTATIONS FOR MOVIL BILLETERS"
   ]
  },
  {
   "cell_type": "code",
   "execution_count": 2,
   "id": "8df0f582",
   "metadata": {},
   "outputs": [
    {
     "name": "stdout",
     "output_type": "stream",
     "text": [
      "NumPy: 1.26.4\n",
      "SciPy: 1.10.1\n",
      "Pandas: 2.2.2\n",
      "Sklearn: 1.5.1\n",
      "GE: 0.18.13\n"
     ]
    }
   ],
   "source": [
    " # IMPORTACIONES\n",
    "import numpy, scipy, pandas, sklearn, great_expectations as ge\n",
    "print(\"NumPy:\", numpy.__version__)\n",
    "print(\"SciPy:\", scipy.__version__)\n",
    "print(\"Pandas:\", pandas.__version__)\n",
    "print(\"Sklearn:\", sklearn.__version__)\n",
    "print(\"GE:\", ge.__version__)\n"
   ]
  },
  {
   "cell_type": "code",
   "execution_count": 6,
   "id": "c2c72494",
   "metadata": {},
   "outputs": [
    {
     "name": "stdout",
     "output_type": "stream",
     "text": [
      "Usando: C:\\Users\\-zv\\Documents\\TRABAJO_MIADAS_MODULO7\\proyecto-playstore\\data\\clean\\comentarios_limpios_tokens.csv\n",
      "RAW shape: (1552, 14)\n"
     ]
    },
    {
     "data": {
      "text/html": [
       "<div>\n",
       "<style scoped>\n",
       "    .dataframe tbody tr th:only-of-type {\n",
       "        vertical-align: middle;\n",
       "    }\n",
       "\n",
       "    .dataframe tbody tr th {\n",
       "        vertical-align: top;\n",
       "    }\n",
       "\n",
       "    .dataframe thead th {\n",
       "        text-align: right;\n",
       "    }\n",
       "</style>\n",
       "<table border=\"1\" class=\"dataframe\">\n",
       "  <thead>\n",
       "    <tr style=\"text-align: right;\">\n",
       "      <th></th>\n",
       "      <th>userName</th>\n",
       "      <th>content</th>\n",
       "      <th>score</th>\n",
       "      <th>reviewCreatedVersion</th>\n",
       "      <th>fecha</th>\n",
       "      <th>hora</th>\n",
       "      <th>replyContent</th>\n",
       "      <th>repliedAt</th>\n",
       "      <th>appVersion</th>\n",
       "      <th>thumbsUpCount</th>\n",
       "      <th>content_limpio</th>\n",
       "      <th>content_limpio_corregido</th>\n",
       "      <th>content_normalizado</th>\n",
       "      <th>tokens</th>\n",
       "    </tr>\n",
       "  </thead>\n",
       "  <tbody>\n",
       "    <tr>\n",
       "      <th>0</th>\n",
       "      <td>Ariel avillo Avillo acuña</td>\n",
       "      <td>la mejor aplicación para guardar mi dinero y p...</td>\n",
       "      <td>5</td>\n",
       "      <td>1.1.3</td>\n",
       "      <td>2025-09-27</td>\n",
       "      <td>12:53:46</td>\n",
       "      <td>Sin comentarios</td>\n",
       "      <td>NaN</td>\n",
       "      <td>1.1.3</td>\n",
       "      <td>0</td>\n",
       "      <td>mejor aplicación guardar dinero pagar</td>\n",
       "      <td>mejor aplicacion guardar dinero pagar</td>\n",
       "      <td>aplicacion guardar dinero pagar</td>\n",
       "      <td>['aplicacion', 'guardar', 'dinero', 'pagar']</td>\n",
       "    </tr>\n",
       "    <tr>\n",
       "      <th>1</th>\n",
       "      <td>Esther Sierra</td>\n",
       "      <td>no sirve quise crear mi cuenta y me sale error...</td>\n",
       "      <td>1</td>\n",
       "      <td>Desconocido</td>\n",
       "      <td>2025-09-27</td>\n",
       "      <td>12:49:35</td>\n",
       "      <td>Sin comentarios</td>\n",
       "      <td>NaN</td>\n",
       "      <td>Desconocido</td>\n",
       "      <td>0</td>\n",
       "      <td>sirve quise crear cuenta sale error red</td>\n",
       "      <td>sirle quite crear cuenta vale error red</td>\n",
       "      <td>sir él quite crear valer error red</td>\n",
       "      <td>['sir', 'él', 'quite', 'crear', 'valer', 'erro...</td>\n",
       "    </tr>\n",
       "    <tr>\n",
       "      <th>2</th>\n",
       "      <td>Marco Antonio Aguilar</td>\n",
       "      <td>es bien pero muy lenta la señal al pasar plata...</td>\n",
       "      <td>4</td>\n",
       "      <td>1.1.3</td>\n",
       "      <td>2025-09-27</td>\n",
       "      <td>12:41:05</td>\n",
       "      <td>Sin comentarios</td>\n",
       "      <td>NaN</td>\n",
       "      <td>1.1.3</td>\n",
       "      <td>0</td>\n",
       "      <td>bien lenta señal pasar plata comprobantes vece...</td>\n",
       "      <td>bien lenta senal pasar plata comprobante veras...</td>\n",
       "      <td>lento senal pasar plata comprobante vera llega...</td>\n",
       "      <td>['lento', 'senal', 'pasar', 'plata', 'comproba...</td>\n",
       "    </tr>\n",
       "  </tbody>\n",
       "</table>\n",
       "</div>"
      ],
      "text/plain": [
       "                    userName  \\\n",
       "0  Ariel avillo Avillo acuña   \n",
       "1              Esther Sierra   \n",
       "2      Marco Antonio Aguilar   \n",
       "\n",
       "                                             content  score  \\\n",
       "0  la mejor aplicación para guardar mi dinero y p...      5   \n",
       "1  no sirve quise crear mi cuenta y me sale error...      1   \n",
       "2  es bien pero muy lenta la señal al pasar plata...      4   \n",
       "\n",
       "  reviewCreatedVersion       fecha      hora     replyContent repliedAt  \\\n",
       "0                1.1.3  2025-09-27  12:53:46  Sin comentarios       NaN   \n",
       "1          Desconocido  2025-09-27  12:49:35  Sin comentarios       NaN   \n",
       "2                1.1.3  2025-09-27  12:41:05  Sin comentarios       NaN   \n",
       "\n",
       "    appVersion  thumbsUpCount  \\\n",
       "0        1.1.3              0   \n",
       "1  Desconocido              0   \n",
       "2        1.1.3              0   \n",
       "\n",
       "                                      content_limpio  \\\n",
       "0              mejor aplicación guardar dinero pagar   \n",
       "1            sirve quise crear cuenta sale error red   \n",
       "2  bien lenta señal pasar plata comprobantes vece...   \n",
       "\n",
       "                            content_limpio_corregido  \\\n",
       "0              mejor aplicacion guardar dinero pagar   \n",
       "1            sirle quite crear cuenta vale error red   \n",
       "2  bien lenta senal pasar plata comprobante veras...   \n",
       "\n",
       "                                 content_normalizado  \\\n",
       "0                    aplicacion guardar dinero pagar   \n",
       "1                 sir él quite crear valer error red   \n",
       "2  lento senal pasar plata comprobante vera llega...   \n",
       "\n",
       "                                              tokens  \n",
       "0       ['aplicacion', 'guardar', 'dinero', 'pagar']  \n",
       "1  ['sir', 'él', 'quite', 'crear', 'valer', 'erro...  \n",
       "2  ['lento', 'senal', 'pasar', 'plata', 'comproba...  "
      ]
     },
     "execution_count": 6,
     "metadata": {},
     "output_type": "execute_result"
    }
   ],
   "source": [
    "from pathlib import Path\n",
    "import pandas as pd\n",
    "import numpy as np\n",
    "\n",
    "DATA_PATH = Path(\"C:/Users/-zv/Documents/TRABAJO_MIADAS_MODULO7/proyecto-playstore/data/clean/comentarios_limpios_tokens.csv\")\n",
    "\n",
    "print(\"Usando:\", DATA_PATH.resolve())\n",
    "\n",
    "df_raw = pd.read_csv(DATA_PATH, encoding_errors=\"ignore\")\n",
    "print(\"RAW shape:\", df_raw.shape)\n",
    "df_raw.head(3)"
   ]
  },
  {
   "cell_type": "markdown",
   "id": "9a9a41bb",
   "metadata": {},
   "source": [
    "#####  Descripción de las columnas\n",
    "\n",
    "Descripción de columnas\n",
    "\n",
    "userName: Nombre o identificador del usuario que dejó la reseña.\n",
    "\n",
    "content: Texto original de la reseña o comentario dejado por el usuario en la aplicación.\n",
    "\n",
    "score: Puntuación otorgada por el usuario (por ejemplo, del 1 al 5).\n",
    "\n",
    "categoria: Categoría asignada al score, transformando la puntuación en una etiqueta cualitativa (por ejemplo: \"Muy bajo\", \"Bajo\", \"Medio\", \"Alto\", \"Muy alto\").\n",
    "\n",
    "reviewCreatedVersion: Versión de la aplicación en el momento en que se realizó la reseña.\n",
    "\n",
    "fecha: Fecha en que el usuario dejó la reseña.\n",
    "\n",
    "hora: Hora en que se realizó la reseña.\n",
    "\n",
    "replyContent: Contenido de la respuesta oficial de la aplicación o desarrollador a la reseña del usuario (si existe).\n",
    "\n",
    "repliedAt: Fecha y hora en que se respondió la reseña.\n",
    "\n",
    "appVersion: Versión actual de la aplicación en la tienda o usada para esa reseña.\n",
    "\n",
    "thumbsUpCount: Número de usuarios que marcaron la reseña como útil (“pulgar arriba”).\n",
    "\n",
    "content_limpio: Texto de la reseña después de una limpieza inicial (eliminación de caracteres especiales, emojis, etc.).\n",
    "\n",
    "content_limpio_corregido: Texto limpio tras corrección ortográfica y gramatical.\n",
    "\n",
    "content_normalizado: Versión procesada del contenido, normalizada para análisis de texto (por ejemplo, minúsculas, eliminación de stopwords, reducción de diminutivos/superlativos).\n",
    "\n",
    "tokens: Lista de palabras significativas extraídas del content_normalizado, útil para análisis de NLP.\n",
    "\n",
    "app_id: Identificador único de la aplicación (por ejemplo: código interno o store ID)."
   ]
  },
  {
   "cell_type": "markdown",
   "id": "01e526e6",
   "metadata": {},
   "source": [
    "# 1. Preprocesamiento minimos tipos"
   ]
  },
  {
   "cell_type": "code",
   "execution_count": 7,
   "id": "017ca5a9",
   "metadata": {},
   "outputs": [
    {
     "name": "stdout",
     "output_type": "stream",
     "text": [
      "userName                    object\n",
      "content                     object\n",
      "score                        int64\n",
      "reviewCreatedVersion        object\n",
      "fecha                       object\n",
      "hora                        object\n",
      "replyContent                object\n",
      "repliedAt                   object\n",
      "appVersion                  object\n",
      "thumbsUpCount                int64\n",
      "content_limpio              object\n",
      "content_limpio_corregido    object\n",
      "content_normalizado         object\n",
      "tokens                      object\n",
      "dtype: object\n"
     ]
    },
    {
     "data": {
      "text/plain": [
       "repliedAt                   1551\n",
       "content_normalizado          176\n",
       "content_limpio                 3\n",
       "content_limpio_corregido       3\n",
       "userName                       0\n",
       "content                        0\n",
       "score                          0\n",
       "reviewCreatedVersion           0\n",
       "fecha                          0\n",
       "hora                           0\n",
       "dtype: int64"
      ]
     },
     "execution_count": 7,
     "metadata": {},
     "output_type": "execute_result"
    }
   ],
   "source": [
    "df_raw = df_raw.copy()\n",
    "\n",
    "# Fecha → datetime\n",
    "if \"InvoiceDate\" in df_raw.columns:\n",
    "    df_raw[\"InvoiceDate\"] = pd.to_datetime(df_raw[\"InvoiceDate\"], errors=\"coerce\")\n",
    "\n",
    "# Números → asegurar tipo\n",
    "for col in [\"Quantity\", \"UnitPrice\", \"CustomerID\"]:\n",
    "    if col in df_raw.columns:\n",
    "        df_raw[col] = pd.to_numeric(df_raw[col], errors=\"coerce\")\n",
    "\n",
    "print(df_raw.dtypes)\n",
    "df_raw.isna().sum().sort_values(ascending=False).head(10)"
   ]
  },
  {
   "cell_type": "markdown",
   "id": "6ab6f410",
   "metadata": {},
   "source": [
    "# 2. Great Expectations Contexto y  datasource (idemponente)"
   ]
  },
  {
   "cell_type": "code",
   "execution_count": 8,
   "id": "60318cb3",
   "metadata": {},
   "outputs": [],
   "source": [
    "import great_expectations as ge\n",
    "from great_expectations.core.batch import RuntimeBatchRequest\n",
    "from great_expectations.exceptions import DataContextError\n",
    "\n",
    "# Contexto efímero en notebook\n",
    "context = ge.get_context()\n",
    "\n",
    "# Datasource runtime para Pandas (seguro si ya existe)\n",
    "try:\n",
    "    context.add_datasource(\n",
    "        name=\"runtime_pandas_datasource\",\n",
    "        class_name=\"Datasource\",\n",
    "        execution_engine={\"class_name\": \"PandasExecutionEngine\"},\n",
    "        data_connectors={\n",
    "            \"runtime_data_connector\": {\n",
    "                \"class_name\": \"RuntimeDataConnector\",\n",
    "                \"batch_identifiers\": [\"default_identifier_name\"],\n",
    "            }\n",
    "        },\n",
    "    )\n",
    "except DataContextError:\n",
    "    pass  # ya existe"
   ]
  },
  {
   "cell_type": "markdown",
   "id": "cb4076dc",
   "metadata": {},
   "source": [
    "# 3. VALIDACIÓN RAW (diagnóstico)\n",
    "Objetivo: Chequeo médico inicial, confirma que el dataset es coherente en lo más básico, y que no hay problemas graves que impidan seguir adelante."
   ]
  },
  {
   "cell_type": "code",
   "execution_count": null,
   "id": "bb374fa6",
   "metadata": {},
   "outputs": [],
   "source": []
  }
 ],
 "metadata": {
  "kernelspec": {
   "display_name": ".venv",
   "language": "python",
   "name": "python3"
  },
  "language_info": {
   "codemirror_mode": {
    "name": "ipython",
    "version": 3
   },
   "file_extension": ".py",
   "mimetype": "text/x-python",
   "name": "python",
   "nbconvert_exporter": "python",
   "pygments_lexer": "ipython3",
   "version": "3.11.9"
  }
 },
 "nbformat": 4,
 "nbformat_minor": 5
}
