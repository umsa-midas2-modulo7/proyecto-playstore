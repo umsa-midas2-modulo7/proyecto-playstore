{
 "cells": [
  {
   "cell_type": "code",
   "execution_count": null,
   "id": "19f3f6b2",
   "metadata": {
    "vscode": {
     "languageId": "plaintext"
    }
   },
   "outputs": [],
   "source": [
    "df_ C:\\Users\\-zv\\Documents\\TRABAJO_MIADAS_MODULO7\\proyecto-playstore\\data\\restore\\comentarios_app.csv"
   ]
  }
 ],
 "metadata": {
  "language_info": {
   "name": "python"
  }
 },
 "nbformat": 4,
 "nbformat_minor": 5
}
