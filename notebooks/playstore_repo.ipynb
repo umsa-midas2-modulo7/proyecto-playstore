{
  "cells": [
    {
      "cell_type": "code",
      "execution_count": 5,
      "metadata": {},
      "outputs": [
        {
          "name": "stdout",
          "output_type": "stream",
          "text": [
            "Collecting pandas\n",
            "  Downloading pandas-2.3.2-cp311-cp311-win_amd64.whl.metadata (19 kB)\n",
            "Collecting numpy>=1.23.2 (from pandas)\n",
            "  Downloading numpy-2.3.3-cp311-cp311-win_amd64.whl.metadata (60 kB)\n",
            "     ---------------------------------------- 0.0/60.9 kB ? eta -:--:--\n",
            "     -------------------- ------------------- 30.7/60.9 kB 1.3 MB/s eta 0:00:01\n",
            "     ---------------------------------------- 60.9/60.9 kB 1.6 MB/s eta 0:00:00\n",
            "Requirement already satisfied: python-dateutil>=2.8.2 in c:\\users\\ordonezm\\modulo7\\proyecto-playstore\\venv\\lib\\site-packages (from pandas) (2.9.0.post0)\n",
            "Collecting pytz>=2020.1 (from pandas)\n",
            "  Using cached pytz-2025.2-py2.py3-none-any.whl.metadata (22 kB)\n",
            "Collecting tzdata>=2022.7 (from pandas)\n",
            "  Using cached tzdata-2025.2-py2.py3-none-any.whl.metadata (1.4 kB)\n",
            "Requirement already satisfied: six>=1.5 in c:\\users\\ordonezm\\modulo7\\proyecto-playstore\\venv\\lib\\site-packages (from python-dateutil>=2.8.2->pandas) (1.17.0)\n",
            "Downloading pandas-2.3.2-cp311-cp311-win_amd64.whl (11.3 MB)\n",
            "   ---------------------------------------- 0.0/11.3 MB ? eta -:--:--\n",
            "    --------------------------------------- 0.2/11.3 MB 6.7 MB/s eta 0:00:02\n",
            "   -- ------------------------------------- 0.7/11.3 MB 8.9 MB/s eta 0:00:02\n",
            "   ----- ---------------------------------- 1.4/11.3 MB 11.4 MB/s eta 0:00:01\n",
            "   ------ --------------------------------- 1.8/11.3 MB 10.6 MB/s eta 0:00:01\n",
            "   ------- -------------------------------- 2.2/11.3 MB 10.1 MB/s eta 0:00:01\n",
            "   --------- ------------------------------ 2.6/11.3 MB 9.7 MB/s eta 0:00:01\n",
            "   ---------- ----------------------------- 2.9/11.3 MB 9.1 MB/s eta 0:00:01\n",
            "   ----------- ---------------------------- 3.2/11.3 MB 8.8 MB/s eta 0:00:01\n",
            "   ------------ --------------------------- 3.5/11.3 MB 8.5 MB/s eta 0:00:01\n",
            "   ------------- -------------------------- 3.8/11.3 MB 8.3 MB/s eta 0:00:01\n",
            "   -------------- ------------------------- 4.1/11.3 MB 8.1 MB/s eta 0:00:01\n",
            "   --------------- ------------------------ 4.4/11.3 MB 8.0 MB/s eta 0:00:01\n",
            "   ---------------- ----------------------- 4.7/11.3 MB 7.9 MB/s eta 0:00:01\n",
            "   ----------------- ---------------------- 5.0/11.3 MB 7.8 MB/s eta 0:00:01\n",
            "   ------------------ --------------------- 5.3/11.3 MB 7.7 MB/s eta 0:00:01\n",
            "   ------------------- -------------------- 5.6/11.3 MB 7.7 MB/s eta 0:00:01\n",
            "   --------------------- ------------------ 6.0/11.3 MB 7.6 MB/s eta 0:00:01\n",
            "   ---------------------- ----------------- 6.3/11.3 MB 7.6 MB/s eta 0:00:01\n",
            "   ----------------------- ---------------- 6.6/11.3 MB 7.5 MB/s eta 0:00:01\n",
            "   ------------------------ --------------- 7.0/11.3 MB 7.6 MB/s eta 0:00:01\n",
            "   ------------------------- -------------- 7.3/11.3 MB 7.5 MB/s eta 0:00:01\n",
            "   --------------------------- ------------ 7.7/11.3 MB 7.5 MB/s eta 0:00:01\n",
            "   ---------------------------- ----------- 8.0/11.3 MB 7.5 MB/s eta 0:00:01\n",
            "   ----------------------------- ---------- 8.4/11.3 MB 7.5 MB/s eta 0:00:01\n",
            "   ------------------------------ --------- 8.7/11.3 MB 7.5 MB/s eta 0:00:01\n",
            "   -------------------------------- ------- 9.1/11.3 MB 7.5 MB/s eta 0:00:01\n",
            "   --------------------------------- ------ 9.4/11.3 MB 7.5 MB/s eta 0:00:01\n",
            "   ---------------------------------- ----- 9.8/11.3 MB 7.5 MB/s eta 0:00:01\n",
            "   ----------------------------------- ---- 10.2/11.3 MB 7.6 MB/s eta 0:00:01\n",
            "   ------------------------------------- -- 10.5/11.3 MB 7.6 MB/s eta 0:00:01\n",
            "   -------------------------------------- - 10.9/11.3 MB 7.5 MB/s eta 0:00:01\n",
            "   ---------------------------------------  11.3/11.3 MB 7.4 MB/s eta 0:00:01\n",
            "   ---------------------------------------- 11.3/11.3 MB 7.4 MB/s eta 0:00:00\n",
            "Downloading numpy-2.3.3-cp311-cp311-win_amd64.whl (13.1 MB)\n",
            "   ---------------------------------------- 0.0/13.1 MB ? eta -:--:--\n",
            "   - -------------------------------------- 0.4/13.1 MB 7.6 MB/s eta 0:00:02\n",
            "   -- ------------------------------------- 0.7/13.1 MB 7.7 MB/s eta 0:00:02\n",
            "   --- ------------------------------------ 1.1/13.1 MB 7.8 MB/s eta 0:00:02\n",
            "   ---- ----------------------------------- 1.5/13.1 MB 7.9 MB/s eta 0:00:02\n",
            "   ----- ---------------------------------- 1.9/13.1 MB 8.0 MB/s eta 0:00:02\n",
            "   ------ --------------------------------- 2.3/13.1 MB 8.1 MB/s eta 0:00:02\n",
            "   -------- ------------------------------- 2.7/13.1 MB 8.1 MB/s eta 0:00:02\n",
            "   --------- ------------------------------ 3.1/13.1 MB 8.2 MB/s eta 0:00:02\n",
            "   ---------- ----------------------------- 3.5/13.1 MB 8.2 MB/s eta 0:00:02\n",
            "   ----------- ---------------------------- 3.9/13.1 MB 8.3 MB/s eta 0:00:02\n",
            "   ------------- -------------------------- 4.3/13.1 MB 8.4 MB/s eta 0:00:02\n",
            "   -------------- ------------------------- 4.8/13.1 MB 8.4 MB/s eta 0:00:01\n",
            "   --------------- ------------------------ 5.2/13.1 MB 8.5 MB/s eta 0:00:01\n",
            "   ----------------- ---------------------- 5.6/13.1 MB 8.5 MB/s eta 0:00:01\n",
            "   ------------------ --------------------- 6.0/13.1 MB 8.6 MB/s eta 0:00:01\n",
            "   ------------------- -------------------- 6.3/13.1 MB 8.7 MB/s eta 0:00:01\n",
            "   -------------------- ------------------- 6.7/13.1 MB 8.6 MB/s eta 0:00:01\n",
            "   --------------------- ------------------ 7.0/13.1 MB 8.5 MB/s eta 0:00:01\n",
            "   ---------------------- ----------------- 7.4/13.1 MB 8.4 MB/s eta 0:00:01\n",
            "   ----------------------- ---------------- 7.7/13.1 MB 8.3 MB/s eta 0:00:01\n",
            "   ------------------------ --------------- 8.0/13.1 MB 8.2 MB/s eta 0:00:01\n",
            "   ------------------------- -------------- 8.3/13.1 MB 8.2 MB/s eta 0:00:01\n",
            "   -------------------------- ------------- 8.6/13.1 MB 8.1 MB/s eta 0:00:01\n",
            "   --------------------------- ------------ 9.0/13.1 MB 8.1 MB/s eta 0:00:01\n",
            "   ---------------------------- ----------- 9.3/13.1 MB 8.0 MB/s eta 0:00:01\n",
            "   ----------------------------- ---------- 9.6/13.1 MB 8.0 MB/s eta 0:00:01\n",
            "   ------------------------------ --------- 10.0/13.1 MB 8.0 MB/s eta 0:00:01\n",
            "   ------------------------------- -------- 10.3/13.1 MB 8.0 MB/s eta 0:00:01\n",
            "   -------------------------------- ------- 10.7/13.1 MB 8.0 MB/s eta 0:00:01\n",
            "   --------------------------------- ------ 11.1/13.1 MB 7.9 MB/s eta 0:00:01\n",
            "   ---------------------------------- ----- 11.4/13.1 MB 8.0 MB/s eta 0:00:01\n",
            "   ----------------------------------- ---- 11.8/13.1 MB 7.9 MB/s eta 0:00:01\n",
            "   ------------------------------------- -- 12.1/13.1 MB 7.9 MB/s eta 0:00:01\n",
            "   -------------------------------------- - 12.5/13.1 MB 7.9 MB/s eta 0:00:01\n",
            "   ---------------------------------------  12.9/13.1 MB 7.8 MB/s eta 0:00:01\n",
            "   ---------------------------------------  13.1/13.1 MB 7.8 MB/s eta 0:00:01\n",
            "   ---------------------------------------- 13.1/13.1 MB 7.6 MB/s eta 0:00:00\n",
            "Using cached pytz-2025.2-py2.py3-none-any.whl (509 kB)\n",
            "Using cached tzdata-2025.2-py2.py3-none-any.whl (347 kB)\n",
            "Installing collected packages: pytz, tzdata, numpy, pandas\n",
            "Successfully installed numpy-2.3.3 pandas-2.3.2 pytz-2025.2 tzdata-2025.2\n",
            "Note: you may need to restart the kernel to use updated packages.\n"
          ]
        },
        {
          "name": "stderr",
          "output_type": "stream",
          "text": [
            "\n",
            "[notice] A new release of pip is available: 24.0 -> 25.2\n",
            "[notice] To update, run: python.exe -m pip install --upgrade pip\n"
          ]
        }
      ],
      "source": [
        "#pip install google_play_scraper\n",
        "%pip install pandas"
      ]
    },
    {
      "cell_type": "code",
      "execution_count": 6,
      "metadata": {
        "id": "JWh471mfXbRM"
      },
      "outputs": [],
      "source": [
        "from google_play_scraper import Sort, reviews\n",
        "import pandas as pd\n",
        "import time, random"
      ]
    },
    {
      "cell_type": "code",
      "execution_count": null,
      "metadata": {
        "id": "Mkv8mZiQ49QV"
      },
      "outputs": [],
      "source": [
        "# esto es solo para una aplicacion y los primeros 200 comentarios\n",
        "\n",
        "#app_id = \"bo.com.yolopago\"\n",
        "\n",
        "# Extraer reseñas (puedes ajustar 'count' según lo que necesites)\n",
        "#result, _ = reviews(\n",
        "#    app_id,\n",
        "#    lang='es',\n",
        "#    country='bo',\n",
        "#    sort=Sort.NEWEST, # puedes usar: Sort.NEWEST, Sort.HELPFUL, Sort.RATING\n",
        "#    count=200         # número de reseñas a descargar en una corrida\n",
        "#)\n",
        "\n",
        "# Convertir a DataFrame\n",
        "#df = pd.DataFrame(result)\n",
        "\n",
        "# Guardar en CSV\n",
        "#df.to_csv(\"comentarios_app.csv\", index=False, encoding=\"utf-8-sig\")\n",
        "\n",
        "#print(\"Se guardaron\", len(df), \"comentarios en 'comentarios_app.csv'\")\n"
      ]
    },
    {
      "cell_type": "code",
      "execution_count": null,
      "metadata": {
        "id": "dOnhDaZQ5E9L"
      },
      "outputs": [],
      "source": [
        "#https://play.google.com/store/apps/details?id=bo.com.yolopago&pcampaignid=web_share\n",
        "#https://play.google.com/store/apps/details?id=com.bancosol.altoke&pcampaignid=web_share\n",
        "#https://play.google.com/store/apps/details?id=com.bcp.bo.wallet&pcampaignid=web_share\n",
        "#https://play.google.com/store/apps/details?id=com.busa.wallet&pcampaignid=web_share\n",
        "#https://play.google.com/store/apps/details?id=com.walletapp.mobile&pcampaignid=web_share"
      ]
    },
    {
      "cell_type": "code",
      "execution_count": null,
      "metadata": {
        "colab": {
          "base_uri": "https://localhost:8080/"
        },
        "id": "p2K3qU5m5Slh",
        "outputId": "d5ea3513-555b-4246-89e5-dca4505e1b58"
      },
      "outputs": [
        {
          "name": "stdout",
          "output_type": "stream",
          "text": [
            "<class 'pandas.core.frame.DataFrame'>\n",
            "RangeIndex: 200 entries, 0 to 199\n",
            "Data columns (total 11 columns):\n",
            " #   Column                Non-Null Count  Dtype         \n",
            "---  ------                --------------  -----         \n",
            " 0   reviewId              200 non-null    object        \n",
            " 1   userName              200 non-null    object        \n",
            " 2   userImage             200 non-null    object        \n",
            " 3   content               200 non-null    object        \n",
            " 4   score                 200 non-null    int64         \n",
            " 5   thumbsUpCount         200 non-null    int64         \n",
            " 6   reviewCreatedVersion  165 non-null    object        \n",
            " 7   at                    200 non-null    datetime64[ns]\n",
            " 8   replyContent          0 non-null      object        \n",
            " 9   repliedAt             0 non-null      object        \n",
            " 10  appVersion            165 non-null    object        \n",
            "dtypes: datetime64[ns](1), int64(2), object(8)\n",
            "memory usage: 17.3+ KB\n",
            "None\n"
          ]
        }
      ],
      "source": [
        "#print(df.info())"
      ]
    },
    {
      "cell_type": "code",
      "execution_count": null,
      "metadata": {
        "colab": {
          "base_uri": "https://localhost:8080/",
          "height": 555
        },
        "id": "Y7Eke2Q68RZN",
        "outputId": "fdb662b3-3b8e-47c5-ac02-c6427602eaa7"
      },
      "outputs": [
        {
          "data": {
            "text/html": [
              "<div>\n",
              "<style scoped>\n",
              "    .dataframe tbody tr th:only-of-type {\n",
              "        vertical-align: middle;\n",
              "    }\n",
              "\n",
              "    .dataframe tbody tr th {\n",
              "        vertical-align: top;\n",
              "    }\n",
              "\n",
              "    .dataframe thead th {\n",
              "        text-align: right;\n",
              "    }\n",
              "</style>\n",
              "<table border=\"1\" class=\"dataframe\">\n",
              "  <thead>\n",
              "    <tr style=\"text-align: right;\">\n",
              "      <th></th>\n",
              "      <th>content</th>\n",
              "    </tr>\n",
              "  </thead>\n",
              "  <tbody>\n",
              "    <tr>\n",
              "      <th>22</th>\n",
              "      <td>muy útil!</td>\n",
              "    </tr>\n",
              "    <tr>\n",
              "      <th>115</th>\n",
              "      <td>un desastre falla la billetera móvil,no puedo ...</td>\n",
              "    </tr>\n",
              "    <tr>\n",
              "      <th>96</th>\n",
              "      <td>Muy buena aplicación</td>\n",
              "    </tr>\n",
              "    <tr>\n",
              "      <th>58</th>\n",
              "      <td>💪</td>\n",
              "    </tr>\n",
              "    <tr>\n",
              "      <th>99</th>\n",
              "      <td>muy agradecida con el personal de atención, so...</td>\n",
              "    </tr>\n",
              "    <tr>\n",
              "      <th>178</th>\n",
              "      <td>esa app esta a punto de dejar de ser compatibl...</td>\n",
              "    </tr>\n",
              "    <tr>\n",
              "      <th>79</th>\n",
              "      <td>pura burrera la nueva actualizacion solo es pa...</td>\n",
              "    </tr>\n",
              "    <tr>\n",
              "      <th>48</th>\n",
              "      <td>Muy buena🌟</td>\n",
              "    </tr>\n",
              "    <tr>\n",
              "      <th>107</th>\n",
              "      <td>interesante app</td>\n",
              "    </tr>\n",
              "    <tr>\n",
              "      <th>109</th>\n",
              "      <td>aurita mismo me están pidiendo q active mi ubi...</td>\n",
              "    </tr>\n",
              "    <tr>\n",
              "      <th>95</th>\n",
              "      <td>🙂</td>\n",
              "    </tr>\n",
              "    <tr>\n",
              "      <th>169</th>\n",
              "      <td>muy buena app</td>\n",
              "    </tr>\n",
              "    <tr>\n",
              "      <th>135</th>\n",
              "      <td>😊</td>\n",
              "    </tr>\n",
              "    <tr>\n",
              "      <th>119</th>\n",
              "      <td>Super</td>\n",
              "    </tr>\n",
              "    <tr>\n",
              "      <th>197</th>\n",
              "      <td>Interesante app</td>\n",
              "    </tr>\n",
              "  </tbody>\n",
              "</table>\n",
              "</div><br><label><b>dtype:</b> object</label>"
            ],
            "text/plain": [
              "22                                             muy útil!\n",
              "115    un desastre falla la billetera móvil,no puedo ...\n",
              "96                                  Muy buena aplicación\n",
              "58                                                     💪\n",
              "99     muy agradecida con el personal de atención, so...\n",
              "178    esa app esta a punto de dejar de ser compatibl...\n",
              "79     pura burrera la nueva actualizacion solo es pa...\n",
              "48                                            Muy buena🌟\n",
              "107                                      interesante app\n",
              "109    aurita mismo me están pidiendo q active mi ubi...\n",
              "95                                                     🙂\n",
              "169                                        muy buena app\n",
              "135                                                    😊\n",
              "119                                                Super\n",
              "197                                      Interesante app\n",
              "Name: content, dtype: object"
            ]
          },
          "execution_count": 14,
          "metadata": {},
          "output_type": "execute_result"
        }
      ],
      "source": [
        "#df['content'].sample(15)"
      ]
    },
    {
      "cell_type": "code",
      "execution_count": null,
      "metadata": {
        "id": "5Fknr60tQX3u"
      },
      "outputs": [],
      "source": [
        "all_reviews = []\n",
        "token = None\n",
        "\n",
        "app_id = [\"com.bancosol.altoke\", \"com.bcp.bo.wallet\", \"bo.com.yolopago\", \"com.busa.wallet\", \"id=com.walletapp.mobile\"]\n",
        "\n",
        "for app in app_id:\n",
        "    for _ in range(5):\n",
        "        result, token = reviews(\n",
        "            app,\n",
        "            lang='es',\n",
        "            country='bo',\n",
        "            sort=Sort.NEWEST,\n",
        "            count=200,\n",
        "            continuation_token=token # esto te permite paginar\n",
        "    )\n",
        "    all_reviews.extend(result)\n",
        "\n",
        "    if not token:  # cuando ya no hay más reseñas\n",
        "        break\n",
        "\n",
        "    time.sleep(random.uniform(5, 10))\n",
        "\n",
        "df2 = pd.DataFrame(all_reviews)\n"
      ]
    },
    {
      "cell_type": "code",
      "execution_count": 10,
      "metadata": {},
      "outputs": [
        {
          "name": "stdout",
          "output_type": "stream",
          "text": [
            "<class 'pandas.core.frame.DataFrame'>\n",
            "RangeIndex: 3000 entries, 0 to 2999\n",
            "Data columns (total 11 columns):\n",
            " #   Column                Non-Null Count  Dtype         \n",
            "---  ------                --------------  -----         \n",
            " 0   reviewId              3000 non-null   object        \n",
            " 1   userName              3000 non-null   object        \n",
            " 2   userImage             3000 non-null   object        \n",
            " 3   content               3000 non-null   object        \n",
            " 4   score                 3000 non-null   int64         \n",
            " 5   thumbsUpCount         3000 non-null   int64         \n",
            " 6   reviewCreatedVersion  2447 non-null   object        \n",
            " 7   at                    3000 non-null   datetime64[ns]\n",
            " 8   replyContent          772 non-null    object        \n",
            " 9   repliedAt             772 non-null    datetime64[ns]\n",
            " 10  appVersion            2447 non-null   object        \n",
            "dtypes: datetime64[ns](2), int64(2), object(7)\n",
            "memory usage: 257.9+ KB\n"
          ]
        }
      ],
      "source": [
        "df2.info()"
      ]
    },
    {
      "cell_type": "code",
      "execution_count": 8,
      "metadata": {
        "colab": {
          "base_uri": "https://localhost:8080/",
          "height": 461
        },
        "id": "SjI3TfQCY1XL",
        "outputId": "72e2ecbb-224e-403d-8623-d6ec0a623dcd"
      },
      "outputs": [
        {
          "data": {
            "text/plain": [
              "305     ya van 3 veces que hago transferencia en tiend...\n",
              "375                                                 super\n",
              "1843    La verdad no se porque pide actualizar y me pu...\n",
              "235     una basura me robó 6 bs y se cuelga al momento...\n",
              "2051                                   Pele la aplicación\n",
              "1761    Que Pasa Con Yape Esta Caido Me Estan Perjudic...\n",
              "1222    Yape se cuelga 3 veces a la semana en Bolivia....\n",
              "2245    Es buena la aplicación me ha servido de mucha ...\n",
              "355     es burocrático te pide carnet de identidad al ...\n",
              "1500    Que pasó con las recargas de paquetes? Ya no s...\n",
              "2275    La aplicación funciona realmente pésimo .... C...\n",
              "827     si yo igual creado mi cuenta ahora pago mis fa...\n",
              "Name: content, dtype: object"
            ]
          },
          "execution_count": 8,
          "metadata": {},
          "output_type": "execute_result"
        }
      ],
      "source": [
        "df2['content'].sample(12)"
      ]
    },
    {
      "cell_type": "code",
      "execution_count": 9,
      "metadata": {
        "colab": {
          "base_uri": "https://localhost:8080/"
        },
        "id": "T-RxRJMZfoAB",
        "outputId": "24621128-b550-4d8a-8550-7021366ea47d"
      },
      "outputs": [
        {
          "data": {
            "text/plain": [
              "(3000, 11)"
            ]
          },
          "execution_count": 9,
          "metadata": {},
          "output_type": "execute_result"
        }
      ],
      "source": [
        "df2.shape"
      ]
    },
    {
      "cell_type": "code",
      "execution_count": 11,
      "metadata": {
        "colab": {
          "base_uri": "https://localhost:8080/"
        },
        "id": "f86LPIwMfavD",
        "outputId": "a292a213-4740-45ff-a9b8-0ca128cc4702"
      },
      "outputs": [
        {
          "name": "stdout",
          "output_type": "stream",
          "text": [
            "✅ Total de reseñas descargadas: 3000\n"
          ]
        }
      ],
      "source": [
        "df2.to_csv(\"../data/restore/comentarios_app.csv\", index=False, encoding=\"utf-8-sig\")\n",
        "print(\"✅ Total de reseñas descargadas:\", len(df2))"
      ]
    }
  ],
  "metadata": {
    "colab": {
      "provenance": []
    },
    "kernelspec": {
      "display_name": "venv",
      "language": "python",
      "name": "python3"
    },
    "language_info": {
      "codemirror_mode": {
        "name": "ipython",
        "version": 3
      },
      "file_extension": ".py",
      "mimetype": "text/x-python",
      "name": "python",
      "nbconvert_exporter": "python",
      "pygments_lexer": "ipython3",
      "version": "3.11.9"
    }
  },
  "nbformat": 4,
  "nbformat_minor": 0
}
