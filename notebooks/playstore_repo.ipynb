{
  "nbformat": 4,
  "nbformat_minor": 0,
  "metadata": {
    "colab": {
      "provenance": []
    },
    "kernelspec": {
      "name": "python3",
      "display_name": "Python 3"
    },
    "language_info": {
      "name": "python"
    }
  },
  "cells": [
    {
      "cell_type": "code",
      "execution_count": 1,
      "metadata": {
        "colab": {
          "base_uri": "https://localhost:8080/"
        },
        "id": "Jmyoc9Uw4uUg",
        "outputId": "790216fe-eebb-4830-f116-5d6ee102fbf5"
      },
      "outputs": [
        {
          "output_type": "stream",
          "name": "stdout",
          "text": [
            "Collecting google-play-scraper\n",
            "  Downloading google_play_scraper-1.2.7-py3-none-any.whl.metadata (50 kB)\n",
            "\u001b[?25l     \u001b[90m━━━━━━━━━━━━━━━━━━━━━━━━━━━━━━━━━━━━━━━━\u001b[0m \u001b[32m0.0/50.2 kB\u001b[0m \u001b[31m?\u001b[0m eta \u001b[36m-:--:--\u001b[0m\r\u001b[2K     \u001b[90m━━━━━━━━━━━━━━━━━━━━━━━━━━━━━━━━━━━━━━━━\u001b[0m \u001b[32m50.2/50.2 kB\u001b[0m \u001b[31m1.4 MB/s\u001b[0m eta \u001b[36m0:00:00\u001b[0m\n",
            "\u001b[?25hDownloading google_play_scraper-1.2.7-py3-none-any.whl (28 kB)\n",
            "Installing collected packages: google-play-scraper\n",
            "Successfully installed google-play-scraper-1.2.7\n"
          ]
        }
      ],
      "source": [
        "pip install google-play-scraper"
      ]
    },
    {
      "cell_type": "code",
      "source": [
        "from google_play_scraper import Sort, reviews\n",
        "import pandas as pd\n",
        "import time, random"
      ],
      "metadata": {
        "id": "JWh471mfXbRM"
      },
      "execution_count": 16,
      "outputs": []
    },
    {
      "cell_type": "code",
      "source": [
        "app_id = \"bo.com.yolopago\"\n",
        "\n",
        "# Extraer reseñas (puedes ajustar 'count' según lo que necesites)\n",
        "result, _ = reviews(\n",
        "    app_id,\n",
        "    lang='es',\n",
        "    country='bo',\n",
        "    sort=Sort.NEWEST, # puedes usar: Sort.NEWEST, Sort.HELPFUL, Sort.RATING\n",
        "    count=200         # número de reseñas a descargar en una corrida\n",
        ")\n",
        "\n",
        "# Convertir a DataFrame\n",
        "df = pd.DataFrame(result)\n",
        "\n",
        "# Guardar en CSV\n",
        "#df.to_csv(\"comentarios_app.csv\", index=False, encoding=\"utf-8-sig\")\n",
        "\n",
        "#print(\"Se guardaron\", len(df), \"comentarios en 'comentarios_app.csv'\")\n"
      ],
      "metadata": {
        "id": "Mkv8mZiQ49QV"
      },
      "execution_count": 6,
      "outputs": []
    },
    {
      "cell_type": "code",
      "source": [
        "#https://play.google.com/store/apps/details?id=bo.com.yolopago&pcampaignid=web_share\n",
        "#https://play.google.com/store/apps/details?id=com.bancosol.altoke&pcampaignid=web_share\n",
        "#https://play.google.com/store/apps/details?id=com.bcp.bo.wallet&pcampaignid=web_share\n",
        "#https://play.google.com/store/apps/details?id=com.busa.wallet&pcampaignid=web_share\n",
        "#https://play.google.com/store/apps/details?id=com.walletapp.mobile&pcampaignid=web_share"
      ],
      "metadata": {
        "id": "dOnhDaZQ5E9L"
      },
      "execution_count": null,
      "outputs": []
    },
    {
      "cell_type": "code",
      "source": [
        "print(df.info())"
      ],
      "metadata": {
        "colab": {
          "base_uri": "https://localhost:8080/"
        },
        "id": "p2K3qU5m5Slh",
        "outputId": "d5ea3513-555b-4246-89e5-dca4505e1b58"
      },
      "execution_count": 10,
      "outputs": [
        {
          "output_type": "stream",
          "name": "stdout",
          "text": [
            "<class 'pandas.core.frame.DataFrame'>\n",
            "RangeIndex: 200 entries, 0 to 199\n",
            "Data columns (total 11 columns):\n",
            " #   Column                Non-Null Count  Dtype         \n",
            "---  ------                --------------  -----         \n",
            " 0   reviewId              200 non-null    object        \n",
            " 1   userName              200 non-null    object        \n",
            " 2   userImage             200 non-null    object        \n",
            " 3   content               200 non-null    object        \n",
            " 4   score                 200 non-null    int64         \n",
            " 5   thumbsUpCount         200 non-null    int64         \n",
            " 6   reviewCreatedVersion  165 non-null    object        \n",
            " 7   at                    200 non-null    datetime64[ns]\n",
            " 8   replyContent          0 non-null      object        \n",
            " 9   repliedAt             0 non-null      object        \n",
            " 10  appVersion            165 non-null    object        \n",
            "dtypes: datetime64[ns](1), int64(2), object(8)\n",
            "memory usage: 17.3+ KB\n",
            "None\n"
          ]
        }
      ]
    },
    {
      "cell_type": "code",
      "source": [
        "df['content'].sample(15)"
      ],
      "metadata": {
        "colab": {
          "base_uri": "https://localhost:8080/",
          "height": 555
        },
        "id": "Y7Eke2Q68RZN",
        "outputId": "fdb662b3-3b8e-47c5-ac02-c6427602eaa7"
      },
      "execution_count": 14,
      "outputs": [
        {
          "output_type": "execute_result",
          "data": {
            "text/plain": [
              "22                                             muy útil!\n",
              "115    un desastre falla la billetera móvil,no puedo ...\n",
              "96                                  Muy buena aplicación\n",
              "58                                                     💪\n",
              "99     muy agradecida con el personal de atención, so...\n",
              "178    esa app esta a punto de dejar de ser compatibl...\n",
              "79     pura burrera la nueva actualizacion solo es pa...\n",
              "48                                            Muy buena🌟\n",
              "107                                      interesante app\n",
              "109    aurita mismo me están pidiendo q active mi ubi...\n",
              "95                                                     🙂\n",
              "169                                        muy buena app\n",
              "135                                                    😊\n",
              "119                                                Super\n",
              "197                                      Interesante app\n",
              "Name: content, dtype: object"
            ],
            "text/html": [
              "<div>\n",
              "<style scoped>\n",
              "    .dataframe tbody tr th:only-of-type {\n",
              "        vertical-align: middle;\n",
              "    }\n",
              "\n",
              "    .dataframe tbody tr th {\n",
              "        vertical-align: top;\n",
              "    }\n",
              "\n",
              "    .dataframe thead th {\n",
              "        text-align: right;\n",
              "    }\n",
              "</style>\n",
              "<table border=\"1\" class=\"dataframe\">\n",
              "  <thead>\n",
              "    <tr style=\"text-align: right;\">\n",
              "      <th></th>\n",
              "      <th>content</th>\n",
              "    </tr>\n",
              "  </thead>\n",
              "  <tbody>\n",
              "    <tr>\n",
              "      <th>22</th>\n",
              "      <td>muy útil!</td>\n",
              "    </tr>\n",
              "    <tr>\n",
              "      <th>115</th>\n",
              "      <td>un desastre falla la billetera móvil,no puedo ...</td>\n",
              "    </tr>\n",
              "    <tr>\n",
              "      <th>96</th>\n",
              "      <td>Muy buena aplicación</td>\n",
              "    </tr>\n",
              "    <tr>\n",
              "      <th>58</th>\n",
              "      <td>💪</td>\n",
              "    </tr>\n",
              "    <tr>\n",
              "      <th>99</th>\n",
              "      <td>muy agradecida con el personal de atención, so...</td>\n",
              "    </tr>\n",
              "    <tr>\n",
              "      <th>178</th>\n",
              "      <td>esa app esta a punto de dejar de ser compatibl...</td>\n",
              "    </tr>\n",
              "    <tr>\n",
              "      <th>79</th>\n",
              "      <td>pura burrera la nueva actualizacion solo es pa...</td>\n",
              "    </tr>\n",
              "    <tr>\n",
              "      <th>48</th>\n",
              "      <td>Muy buena🌟</td>\n",
              "    </tr>\n",
              "    <tr>\n",
              "      <th>107</th>\n",
              "      <td>interesante app</td>\n",
              "    </tr>\n",
              "    <tr>\n",
              "      <th>109</th>\n",
              "      <td>aurita mismo me están pidiendo q active mi ubi...</td>\n",
              "    </tr>\n",
              "    <tr>\n",
              "      <th>95</th>\n",
              "      <td>🙂</td>\n",
              "    </tr>\n",
              "    <tr>\n",
              "      <th>169</th>\n",
              "      <td>muy buena app</td>\n",
              "    </tr>\n",
              "    <tr>\n",
              "      <th>135</th>\n",
              "      <td>😊</td>\n",
              "    </tr>\n",
              "    <tr>\n",
              "      <th>119</th>\n",
              "      <td>Super</td>\n",
              "    </tr>\n",
              "    <tr>\n",
              "      <th>197</th>\n",
              "      <td>Interesante app</td>\n",
              "    </tr>\n",
              "  </tbody>\n",
              "</table>\n",
              "</div><br><label><b>dtype:</b> object</label>"
            ]
          },
          "metadata": {},
          "execution_count": 14
        }
      ]
    },
    {
      "cell_type": "code",
      "source": [
        "all_reviews = []\n",
        "token = None\n",
        "\n",
        "app_id = [\"com.bancosol.altoke\", \"com.bcp.bo.wallet\", \"bo.com.yolopago\", \"com.busa.wallet\", \"id=com.walletapp.mobile\"]\n",
        "\n",
        "for app in app_id:\n",
        "  for _ in range(5):\n",
        "    result, token = reviews(\n",
        "        app,\n",
        "        lang='es',\n",
        "        country='bo',\n",
        "        sort=Sort.NEWEST,\n",
        "        count=200,\n",
        "        continuation_token=token # esto te permite paginar\n",
        "    )\n",
        "    all_reviews.extend(result)\n",
        "\n",
        "    if not token:  # cuando ya no hay más reseñas\n",
        "        break\n",
        "\n",
        "    time.sleep(random.uniform(5, 10))\n",
        "\n",
        "df2 = pd.DataFrame(all_reviews)\n",
        "\n"
      ],
      "metadata": {
        "id": "5Fknr60tQX3u"
      },
      "execution_count": 20,
      "outputs": []
    },
    {
      "cell_type": "code",
      "source": [
        "df2['content'].sample(12)"
      ],
      "metadata": {
        "colab": {
          "base_uri": "https://localhost:8080/",
          "height": 461
        },
        "id": "SjI3TfQCY1XL",
        "outputId": "72e2ecbb-224e-403d-8623-d6ec0a623dcd"
      },
      "execution_count": 19,
      "outputs": [
        {
          "output_type": "execute_result",
          "data": {
            "text/plain": [
              "150                                                    😃\n",
              "5                                                  buena\n",
              "806                                          recomendada\n",
              "573    es una aplicación muy buena pero hay algo q no...\n",
              "952    tuve líos con yape, una farsa de app. oi de Yo...\n",
              "488    Lo actualize y me sale YOLO SE DETUVO una vain...\n",
              "143    ni siquiera puedo crear una cuenta en su app m...\n",
              "556                                        es bien nomas\n",
              "563                        No entra vien esta aplicasion\n",
              "377                                  una buena opción...\n",
              "545    buenas noches no puedo pagar con mí yolo a otr...\n",
              "389           Interesante las funciones de la aplicación\n",
              "Name: content, dtype: object"
            ],
            "text/html": [
              "<div>\n",
              "<style scoped>\n",
              "    .dataframe tbody tr th:only-of-type {\n",
              "        vertical-align: middle;\n",
              "    }\n",
              "\n",
              "    .dataframe tbody tr th {\n",
              "        vertical-align: top;\n",
              "    }\n",
              "\n",
              "    .dataframe thead th {\n",
              "        text-align: right;\n",
              "    }\n",
              "</style>\n",
              "<table border=\"1\" class=\"dataframe\">\n",
              "  <thead>\n",
              "    <tr style=\"text-align: right;\">\n",
              "      <th></th>\n",
              "      <th>content</th>\n",
              "    </tr>\n",
              "  </thead>\n",
              "  <tbody>\n",
              "    <tr>\n",
              "      <th>150</th>\n",
              "      <td>😃</td>\n",
              "    </tr>\n",
              "    <tr>\n",
              "      <th>5</th>\n",
              "      <td>buena</td>\n",
              "    </tr>\n",
              "    <tr>\n",
              "      <th>806</th>\n",
              "      <td>recomendada</td>\n",
              "    </tr>\n",
              "    <tr>\n",
              "      <th>573</th>\n",
              "      <td>es una aplicación muy buena pero hay algo q no...</td>\n",
              "    </tr>\n",
              "    <tr>\n",
              "      <th>952</th>\n",
              "      <td>tuve líos con yape, una farsa de app. oi de Yo...</td>\n",
              "    </tr>\n",
              "    <tr>\n",
              "      <th>488</th>\n",
              "      <td>Lo actualize y me sale YOLO SE DETUVO una vain...</td>\n",
              "    </tr>\n",
              "    <tr>\n",
              "      <th>143</th>\n",
              "      <td>ni siquiera puedo crear una cuenta en su app m...</td>\n",
              "    </tr>\n",
              "    <tr>\n",
              "      <th>556</th>\n",
              "      <td>es bien nomas</td>\n",
              "    </tr>\n",
              "    <tr>\n",
              "      <th>563</th>\n",
              "      <td>No entra vien esta aplicasion</td>\n",
              "    </tr>\n",
              "    <tr>\n",
              "      <th>377</th>\n",
              "      <td>una buena opción...</td>\n",
              "    </tr>\n",
              "    <tr>\n",
              "      <th>545</th>\n",
              "      <td>buenas noches no puedo pagar con mí yolo a otr...</td>\n",
              "    </tr>\n",
              "    <tr>\n",
              "      <th>389</th>\n",
              "      <td>Interesante las funciones de la aplicación</td>\n",
              "    </tr>\n",
              "  </tbody>\n",
              "</table>\n",
              "</div><br><label><b>dtype:</b> object</label>"
            ]
          },
          "metadata": {},
          "execution_count": 19
        }
      ]
    },
    {
      "cell_type": "code",
      "source": [
        "df2.shape"
      ],
      "metadata": {
        "colab": {
          "base_uri": "https://localhost:8080/"
        },
        "id": "T-RxRJMZfoAB",
        "outputId": "24621128-b550-4d8a-8550-7021366ea47d"
      },
      "execution_count": 22,
      "outputs": [
        {
          "output_type": "execute_result",
          "data": {
            "text/plain": [
              "(3000, 11)"
            ]
          },
          "metadata": {},
          "execution_count": 22
        }
      ]
    },
    {
      "cell_type": "code",
      "source": [
        "df2.to_csv(\"comentarios_app_completos.csv\", index=False, encoding=\"utf-8-sig\")\n",
        "print(\"✅ Total de reseñas descargadas:\", len(df))"
      ],
      "metadata": {
        "colab": {
          "base_uri": "https://localhost:8080/"
        },
        "id": "f86LPIwMfavD",
        "outputId": "a292a213-4740-45ff-a9b8-0ca128cc4702"
      },
      "execution_count": 24,
      "outputs": [
        {
          "output_type": "stream",
          "name": "stdout",
          "text": [
            "✅ Total de reseñas descargadas: 200\n"
          ]
        }
      ]
    }
  ]
}